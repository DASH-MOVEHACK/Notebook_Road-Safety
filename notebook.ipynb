{
 "cells": [
  {
   "cell_type": "markdown",
   "metadata": {},
   "source": [
    "# REAL TIME ACCIDENT DETECTION"
   ]
  },
  {
   "cell_type": "markdown",
   "metadata": {},
   "source": [
    "<img src=\"main.jpg\">"
   ]
  },
  {
   "cell_type": "markdown",
   "metadata": {},
   "source": [
    "We first take a video input, then we divide it into frames, we will predict the next frame, using the current frame. A major error in actual frame and predicted frame will be considered as an anomaly. These frames are taken to a convolutional layer to predict any accident or harsh driving behaviours exhibited by any driver.\n"
   ]
  },
  {
   "cell_type": "markdown",
   "metadata": {},
   "source": [
    "## To Find Video Anomalies We Used PREDNET Model\n",
    "<img src=\"prednet_model.png\">\n"
   ]
  },
  {
   "cell_type": "markdown",
   "metadata": {},
   "source": [
    "## Here Is The Code"
   ]
  },
  {
   "cell_type": "code",
   "execution_count": 1,
   "metadata": {},
   "outputs": [
    {
     "name": "stderr",
     "output_type": "stream",
     "text": [
      "Using TensorFlow backend.\n"
     ]
    }
   ],
   "source": [
    "import numpy as np\n",
    "import pandas as pd\n",
    "import tensorflow as tf\n",
    "from keras.layers import ConvLSTM2D,TimeDistributed,MaxPooling2D,UpSampling2D,Conv2D,Input,merge\n",
    "from keras.models import Model"
   ]
  },
  {
   "cell_type": "code",
   "execution_count": 2,
   "metadata": {},
   "outputs": [],
   "source": [
    "def lstm_Cnn2d(input_shape):\n",
    "    c = 64\n",
    "    input_img = Input(input_shape,name = 'input')\n",
    "    x = ConvLSTM2D(c,(3,3),padding='same',return_sequences=True)(input_img)\n",
    "    x = ConvLSTM2D(c,(3,3),padding='same',return_sequences=True)(x)\n",
    "    c1 = ConvLSTM2D(c,(3,3),padding='same',return_sequences=True)(x) \n",
    "    \n",
    "    x = TimeDistributed(MaxPooling2D((2,2),(2,2)))(c1)\n",
    "    \n",
    "    x = ConvLSTM2D(2*c,(3,3),padding='same',return_sequences=True)(x)\n",
    "    x = ConvLSTM2D(2*c,(3,3),padding='same',return_sequences=True)(x)\n",
    "    c2 = ConvLSTM2D(2*c,(3,3),padding='same',return_sequences=True)(x)\n",
    "    \n",
    "    x = TimeDistributed(MaxPooling2D((2,2),(2,2)))(c2)\n",
    "    x = ConvLSTM2D(2*c,(3,3),padding='same',return_sequences=True)(x)\n",
    "    x = ConvLSTM2D(2*c,(3,3),padding='same',return_sequences=True)(x)\n",
    "    c3 = ConvLSTM2D(2*c,(3,3),padding='same',return_sequences=True)(x)\n",
    "    \n",
    "    x = TimeDistributed(UpSampling2D((2,2)))(c3)\n",
    "    x = merge.concatenate([c2,x])\n",
    "    x = TimeDistributed(Conv2D(c,(3,3),padding='same'))(x)\n",
    "    \n",
    "    x = TimeDistributed(UpSampling2D((2,2)))(x)\n",
    "    x = merge.concatenate([c1,x])\n",
    "\n",
    "    x = TimeDistributed(Conv2D(3,(3,3),padding='same'))(x)\n",
    "    x = TimeDistributed(UpSampling2D((2,2)))(x)\n",
    "    x = TimeDistributed(Conv2D(3,(3,3),padding='same'))(x)\n",
    "    x = TimeDistributed(UpSampling2D((2,2)))(x)\n",
    "    \n",
    "    output = TimeDistributed(Conv2D(3,(3,3),padding='same',activation='softmax'),name='output')(x)\n",
    "    \n",
    "    model = Model(input_img,output=[output])\n",
    "    model.compile(loss='categorical_crossentropy',optimizer = 'adadelta')\n",
    "    return model"
   ]
  },
  {
   "cell_type": "code",
   "execution_count": 3,
   "metadata": {},
   "outputs": [
    {
     "name": "stderr",
     "output_type": "stream",
     "text": [
      "/usr/local/lib/python3.6/site-packages/ipykernel_launcher.py:33: UserWarning: Update your `Model` call to the Keras 2 API: `Model(Tensor(\"in..., outputs=[<tf.Tenso...)`\n"
     ]
    }
   ],
   "source": [
    "batch_size = 10 \n",
    "pixel_x = 64\n",
    "pixel_y = 64\n",
    "color_code = 3\n",
    "Model = lstm_Cnn2d((batch_size,pixel_x,pixel_y,color_code))"
   ]
  },
  {
   "cell_type": "code",
   "execution_count": 4,
   "metadata": {},
   "outputs": [
    {
     "name": "stdout",
     "output_type": "stream",
     "text": [
      "__________________________________________________________________________________________________\n",
      "Layer (type)                    Output Shape         Param #     Connected to                     \n",
      "==================================================================================================\n",
      "input (InputLayer)              (None, 10, 64, 64, 3 0                                            \n",
      "__________________________________________________________________________________________________\n",
      "conv_lst_m2d_1 (ConvLSTM2D)     (None, 10, 64, 64, 6 154624      input[0][0]                      \n",
      "__________________________________________________________________________________________________\n",
      "conv_lst_m2d_2 (ConvLSTM2D)     (None, 10, 64, 64, 6 295168      conv_lst_m2d_1[0][0]             \n",
      "__________________________________________________________________________________________________\n",
      "conv_lst_m2d_3 (ConvLSTM2D)     (None, 10, 64, 64, 6 295168      conv_lst_m2d_2[0][0]             \n",
      "__________________________________________________________________________________________________\n",
      "time_distributed_1 (TimeDistrib (None, 10, 32, 32, 6 0           conv_lst_m2d_3[0][0]             \n",
      "__________________________________________________________________________________________________\n",
      "conv_lst_m2d_4 (ConvLSTM2D)     (None, 10, 32, 32, 1 885248      time_distributed_1[0][0]         \n",
      "__________________________________________________________________________________________________\n",
      "conv_lst_m2d_5 (ConvLSTM2D)     (None, 10, 32, 32, 1 1180160     conv_lst_m2d_4[0][0]             \n",
      "__________________________________________________________________________________________________\n",
      "conv_lst_m2d_6 (ConvLSTM2D)     (None, 10, 32, 32, 1 1180160     conv_lst_m2d_5[0][0]             \n",
      "__________________________________________________________________________________________________\n",
      "time_distributed_2 (TimeDistrib (None, 10, 16, 16, 1 0           conv_lst_m2d_6[0][0]             \n",
      "__________________________________________________________________________________________________\n",
      "conv_lst_m2d_7 (ConvLSTM2D)     (None, 10, 16, 16, 1 1180160     time_distributed_2[0][0]         \n",
      "__________________________________________________________________________________________________\n",
      "conv_lst_m2d_8 (ConvLSTM2D)     (None, 10, 16, 16, 1 1180160     conv_lst_m2d_7[0][0]             \n",
      "__________________________________________________________________________________________________\n",
      "conv_lst_m2d_9 (ConvLSTM2D)     (None, 10, 16, 16, 1 1180160     conv_lst_m2d_8[0][0]             \n",
      "__________________________________________________________________________________________________\n",
      "time_distributed_3 (TimeDistrib (None, 10, 32, 32, 1 0           conv_lst_m2d_9[0][0]             \n",
      "__________________________________________________________________________________________________\n",
      "concatenate_1 (Concatenate)     (None, 10, 32, 32, 2 0           conv_lst_m2d_6[0][0]             \n",
      "                                                                 time_distributed_3[0][0]         \n",
      "__________________________________________________________________________________________________\n",
      "time_distributed_4 (TimeDistrib (None, 10, 32, 32, 6 147520      concatenate_1[0][0]              \n",
      "__________________________________________________________________________________________________\n",
      "time_distributed_5 (TimeDistrib (None, 10, 64, 64, 6 0           time_distributed_4[0][0]         \n",
      "__________________________________________________________________________________________________\n",
      "concatenate_2 (Concatenate)     (None, 10, 64, 64, 1 0           conv_lst_m2d_3[0][0]             \n",
      "                                                                 time_distributed_5[0][0]         \n",
      "__________________________________________________________________________________________________\n",
      "time_distributed_6 (TimeDistrib (None, 10, 64, 64, 3 3459        concatenate_2[0][0]              \n",
      "__________________________________________________________________________________________________\n",
      "time_distributed_7 (TimeDistrib (None, 10, 128, 128, 0           time_distributed_6[0][0]         \n",
      "__________________________________________________________________________________________________\n",
      "time_distributed_8 (TimeDistrib (None, 10, 128, 128, 84          time_distributed_7[0][0]         \n",
      "__________________________________________________________________________________________________\n",
      "time_distributed_9 (TimeDistrib (None, 10, 256, 256, 0           time_distributed_8[0][0]         \n",
      "__________________________________________________________________________________________________\n",
      "output (TimeDistributed)        (None, 10, 256, 256, 84          time_distributed_9[0][0]         \n",
      "==================================================================================================\n",
      "Total params: 7,682,155\n",
      "Trainable params: 7,682,155\n",
      "Non-trainable params: 0\n",
      "__________________________________________________________________________________________________\n"
     ]
    }
   ],
   "source": [
    "Model.summary()"
   ]
  },
  {
   "cell_type": "markdown",
   "metadata": {},
   "source": [
    "## Resources And Research"
   ]
  },
  {
   "cell_type": "markdown",
   "metadata": {},
   "source": [
    "PredNet :- https://coxlab.github.io/prednet/"
   ]
  },
  {
   "cell_type": "code",
   "execution_count": null,
   "metadata": {},
   "outputs": [],
   "source": []
  }
 ],
 "metadata": {
  "kernelspec": {
   "display_name": "Python 3",
   "language": "python",
   "name": "python3"
  },
  "language_info": {
   "codemirror_mode": {
    "name": "ipython",
    "version": 3
   },
   "file_extension": ".py",
   "mimetype": "text/x-python",
   "name": "python",
   "nbconvert_exporter": "python",
   "pygments_lexer": "ipython3",
   "version": "3.6.3"
  }
 },
 "nbformat": 4,
 "nbformat_minor": 2
}
